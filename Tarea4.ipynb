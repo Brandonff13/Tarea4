{
 "cells": [
  {
   "cell_type": "markdown",
   "metadata": {},
   "source": [
    "# Brandon Francisco Flores"
   ]
  },
  {
   "cell_type": "markdown",
   "metadata": {
    "id": "LQ1H9DG5gv-j"
   },
   "source": [
    "# Problema 1:\n",
    "\n",
    "Los siguientes datos"
   ]
  },
  {
   "cell_type": "code",
   "execution_count": 10,
   "metadata": {
    "executionInfo": {
     "elapsed": 195,
     "status": "ok",
     "timestamp": 1678301171362,
     "user": {
      "displayName": "Jorge Velazquez-Castro",
      "userId": "01681773826982879139"
     },
     "user_tz": 360
    },
    "id": "Ky3t7QKqhTT0"
   },
   "outputs": [],
   "source": [
    "x = np.array([ 3.8058516 ,  4.19437519,  1.37709166,  0.77009889,  5.20968912,\n",
    "        0.65358179,  3.9701773 ,  2.07495512,  3.02571317,  3.1321825 ,\n",
    "        3.10005197,  4.94755324,  2.26160675,  0.59817735,  1.19183984,\n",
    "        1.37467926, -0.61701765,  5.01024433,  3.13300185,  5.2957513 ,\n",
    "        5.49070323, -1.13532482, -0.34934039,  5.72120588,  1.23276086,\n",
    "        4.33202401,  4.00250539, -0.40665993,  1.05709082,  3.68821387,\n",
    "        1.12295318,  2.10739471,  0.53197551, -0.27389039,  1.48139076,\n",
    "        0.70014346,  2.31649553,  2.44322569,  3.86141784,  2.04558533,\n",
    "        2.98230541,  3.69456416,  2.35192256,  0.11488102,  1.24948211,\n",
    "        2.34006925,  1.45962495, -0.09042347, -0.05130358,  1.15963357,\n",
    "        0.56871108,  2.70715761,  2.47673624,  1.70400014,  1.60709535,\n",
    "       -0.40534576,  3.07910114,  0.80967033,  5.04007949,  0.11755631,\n",
    "        1.427098  , -0.07170736,  5.11381387,  3.54324208,  4.39654794,\n",
    "        0.10687046,  2.89288521,  4.23476606,  1.54499074,  2.68598353,\n",
    "       -1.02087514,  1.9960533 ,  5.24364406,  3.2185187 , -0.38242978,\n",
    "        3.49462381,  1.06077727, -0.02623431,  3.92295454,  1.48746264,\n",
    "        2.74412523, -0.29060423,  3.915251  ,  3.13072888,  3.78471126,\n",
    "       -0.26904523,  0.66725871,  2.75931047,  2.09460576,  1.15288733,\n",
    "        3.08004069,  2.51581013,  1.88470954,  3.18040196,  0.85962888,\n",
    "       -0.2126045 ,  3.2505909 ,  2.7800464 ,  1.41144019,  2.71715232])\n"
   ]
  },
  {
   "cell_type": "markdown",
   "metadata": {
    "id": "oWcdfjuShXia"
   },
   "source": [
    "es una muestra de una distribución coseno:\n",
    "$$f(x)=C\\frac{1}{2\\pi}(1+\\cos(x/a-b))$$\n",
    "para $$-\\pi < x/a-b <\\pi$$ y donde C es una constante de normalización.\n",
    "\n",
    "\"a\" se conoce como la escala y \"b\" como la localización.\n",
    "\n",
    "Estima los parámetros \"a\" y \"b\" a partir de los datos y da un intervalo de confianza para ellos del 95%."
   ]
  },
  {
   "cell_type": "code",
   "execution_count": 14,
   "metadata": {
    "scrolled": true
   },
   "outputs": [
    {
     "name": "stdout",
     "output_type": "stream",
     "text": [
      "Estimación de a: 1.438 con intervalo de confianza: (1.2757408184418642, 1.6000215731929217)\n",
      "Estimación de b: 2.181 con intervalo de confianza: (1.8763138512027078, 2.4861440314112873)\n"
     ]
    },
    {
     "data": {
      "image/png": "[encoded data removed]",
      "text/plain": [
       "<Figure size 640x480 with 1 Axes>"
      ]
     },
     "metadata": {},
     "output_type": "display_data"
    }
   ],
   "source": [
    "import numpy as np\n",
    "import scipy.optimize as opt\n",
    "import scipy.stats as stats\n",
    "import matplotlib.pyplot as plt\n",
    "\n",
    "x = np.array([ 3.8058516 ,  4.19437519,  1.37709166,  0.77009889,  5.20968912,\n",
    "        0.65358179,  3.9701773 ,  2.07495512,  3.02571317,  3.1321825 ,\n",
    "        3.10005197,  4.94755324,  2.26160675,  0.59817735,  1.19183984,\n",
    "        1.37467926, -0.61701765,  5.01024433,  3.13300185,  5.2957513 ,\n",
    "        5.49070323, -1.13532482, -0.34934039,  5.72120588,  1.23276086,\n",
    "        4.33202401,  4.00250539, -0.40665993,  1.05709082,  3.68821387,\n",
    "        1.12295318,  2.10739471,  0.53197551, -0.27389039,  1.48139076,\n",
    "        0.70014346,  2.31649553,  2.44322569,  3.86141784,  2.04558533,\n",
    "        2.98230541,  3.69456416,  2.35192256,  0.11488102,  1.24948211,\n",
    "        2.34006925,  1.45962495, -0.09042347, -0.05130358,  1.15963357,\n",
    "        0.56871108,  2.70715761,  2.47673624,  1.70400014,  1.60709535,\n",
    "       -0.40534576,  3.07910114,  0.80967033,  5.04007949,  0.11755631,\n",
    "        1.427098  , -0.07170736,  5.11381387,  3.54324208,  4.39654794,\n",
    "        0.10687046,  2.89288521,  4.23476606,  1.54499074,  2.68598353,\n",
    "       -1.02087514,  1.9960533 ,  5.24364406,  3.2185187 , -0.38242978,\n",
    "        3.49462381,  1.06077727, -0.02623431,  3.92295454,  1.48746264,\n",
    "        2.74412523, -0.29060423,  3.915251  ,  3.13072888,  3.78471126,\n",
    "       -0.26904523,  0.66725871,  2.75931047,  2.09460576,  1.15288733,\n",
    "        3.08004069,  2.51581013,  1.88470954,  3.18040196,  0.85962888,\n",
    "       -0.2126045 ,  3.2505909 ,  2.7800464 ,  1.41144019,  2.71715232])\n",
    "\n",
    "# Función de densidad de probabilidad (PDF) para la distribución coseno\n",
    "def coseno_pdf(x, a, b):\n",
    "    return (1 / (2 * np.pi * a)) * (1 + np.cos((x - b) / a))\n",
    "\n",
    "# Función de verosimilitud negativa para maximizar (ajustar parámetros)\n",
    "def neg_log_likelihood(params, x):\n",
    "    a, b = params\n",
    "    # Asegurarse de que la PDF está correctamente definida\n",
    "    pdf_values = coseno_pdf(x, a, b)\n",
    "    # Añadir una pequeña constante para evitar problemas con log(0)\n",
    "    return -np.sum(np.log(pdf_values + 1e-10))\n",
    "\n",
    "# Estimaciones iniciales basadas en los datos\n",
    "initial_b = np.mean(x)  # Estimación inicial para b (localización)\n",
    "initial_a = np.std(x)  # Estimación inicial para a (escala)\n",
    "\n",
    "initial_guess = [initial_a, initial_b]\n",
    "\n",
    "# Ajuste de los parámetros usando un optimizador no lineal (BFGS)\n",
    "result = opt.minimize(neg_log_likelihood, initial_guess, args=(x,), method='BFGS')\n",
    "\n",
    "# Parámetros estimados\n",
    "a_est, b_est = result.x\n",
    "\n",
    "# Estimación de la matriz de covarianza (calculada desde el Hessiano)\n",
    "cov_matrix = result.hess_inv  # Esto es la inversa de la matriz Hessiana\n",
    "errors = np.sqrt(np.diag(cov_matrix))  # Errores estándar\n",
    "\n",
    "# Intervalos de confianza del 95%\n",
    "conf_int_a = (a_est - 1.96 * errors[0], a_est + 1.96 * errors[0])\n",
    "conf_int_b = (b_est - 1.96 * errors[1], b_est + 1.96 * errors[1])\n",
    "\n",
    "# Resultados\n",
    "print(f\"Estimación de a: {a_est:.3f} con intervalo de confianza: {conf_int_a}\")\n",
    "print(f\"Estimación de b: {b_est:.3f} con intervalo de confianza: {conf_int_b}\")\n",
    "\n",
    "# Graficar los datos y la distribución ajustada\n",
    "x_vals = np.linspace(min(x), max(x), 1000)\n",
    "y_vals = coseno_pdf(x_vals, a_est, b_est)\n",
    "\n",
    "plt.hist(x, bins=20, density=True, alpha=0.6, color='g', label='Datos')\n",
    "plt.plot(x_vals, y_vals, label=f'Ajuste: a={a_est:.3f}, b={b_est:.3f}', color='r')\n",
    "plt.legend()\n",
    "plt.show()"
   ]
  },
  {
   "cell_type": "markdown",
   "metadata": {
    "id": "8Xl12azVkKOF"
   },
   "source": [
    "# Problema 2:\n",
    "\n",
    "Con la misma secuencia de datos del problema anterior x. I**magína que no conoces la distribución de donde proviene la muestra**. Estima el primer momento de la distribución $\\mu=\\bar{x}$ (promedio) y enstima el intervalo de confianza del 95%. "
   ]
  },
  {
   "cell_type": "code",
   "execution_count": 6,
   "metadata": {},
   "outputs": [
    {
     "name": "stdout",
     "output_type": "stream",
     "text": [
      "Estimación de la media (mu): 2.134\n",
      "Intervalo de confianza del 95%: (1.795, 2.473)\n"
     ]
    }
   ],
   "source": [
    "# Estimación del primer momento (promedio de la muestra)\n",
    "mu_hat = np.mean(x)\n",
    "\n",
    "# Estimación de la desviación estándar muestral\n",
    "sigma_hat = np.std(x, ddof=1)\n",
    "\n",
    "# Tamaño de la muestra\n",
    "n = len(x)\n",
    "\n",
    "# Error estándar de la media\n",
    "se_mu = sigma_hat / np.sqrt(n)\n",
    "\n",
    "# Intervalo de confianza del 95% usando la distribución t de Student\n",
    "alpha = 0.05\n",
    "t_value = stats.t.ppf(1 - alpha/2, df=n-1)\n",
    "\n",
    "# Intervalo de confianza del 95% para la media\n",
    "ci_lower = mu_hat - t_value * se_mu\n",
    "ci_upper = mu_hat + t_value * se_mu\n",
    "\n",
    "# Resultados\n",
    "print(f\"Estimación de la media (mu): {mu_hat:.3f}\")\n",
    "print(f\"Intervalo de confianza del 95%: ({ci_lower:.3f}, {ci_upper:.3f})\")"
   ]
  },
  {
   "cell_type": "markdown",
   "metadata": {},
   "source": [
    "# Problema 3:\n",
    "Un fabricante farmacéutico compra materias primas de dos proveedores diferentes. El nivel medio de impurezas es aproximadamente el mismo para ambos proveedores, pero el fabricante está preocupado por la variabilidad en la cantidad de impurezas de entre un embarque y otro. Si el nivel de impurezas tiende a variar en forma excesiva de una fuente de abastecimiento, esto podría afectar la calidad del producto final. Para comparar la variación en el porcentaje de impurezas para los dos proveedores, el fabricante selecciona diez envíos de cada uno de ellos y mide el porcentaje de impurezas de cada envío. Las varianzas muestrales fueron s2 1 = .273 y s2 2 = .094 respectivamente. Forme un intervalo de confianza de 95% para la relación entre las varianzas poblacionales reales."
   ]
  },
  {
   "cell_type": "code",
   "execution_count": 7,
   "metadata": {},
   "outputs": [
    {
     "name": "stdout",
     "output_type": "stream",
     "text": [
      "Razón de varianzas (F): 2.904\n",
      "Intervalo de confianza del 95% para la relación de varianzas: (11.693, 0.721)\n"
     ]
    }
   ],
   "source": [
    "# Datos\n",
    "s1_squared = 0.273  # varianza de la primera muestra\n",
    "s2_squared = 0.094  # varianza de la segunda muestra\n",
    "n1 = 10  # tamaño de la primera muestra\n",
    "n2 = 10  # tamaño de la segunda muestra\n",
    "alpha = 0.05  # nivel de significancia para el 95% de confianza\n",
    "\n",
    "# Razón de varianzas\n",
    "F = s1_squared / s2_squared\n",
    "\n",
    "# Grados de libertad para ambas muestras\n",
    "df1 = n1 - 1\n",
    "df2 = n2 - 1\n",
    "\n",
    "# Valores críticos de la distribución F\n",
    "F_lower = stats.f.ppf(1 - alpha/2, df1, df2)  # F en el límite inferior\n",
    "F_upper = stats.f.ppf(alpha/2, df1, df2)  # F en el límite superior\n",
    "\n",
    "# Intervalo de confianza para la razón de varianzas\n",
    "CI_lower = F / F_upper\n",
    "CI_upper = F / F_lower\n",
    "\n",
    "# Resultados\n",
    "print(f\"Razón de varianzas (F): {F:.3f}\")\n",
    "print(f\"Intervalo de confianza del 95% para la relación de varianzas: ({CI_lower:.3f}, {CI_upper:.3f})\")"
   ]
  },
  {
   "cell_type": "markdown",
   "metadata": {},
   "source": [
    "# Problema 4:\n",
    "Una encuesta a 415 ejecutivos corporativos, de gobierno y contadores de la Financial Accounting Foundation encontró que 278 consideraban el flujo de caja (lo contrario de ganancias por acción, etc.) como el indicador más importante de la salud financiera de una compañía. Suponga que estos 415 ejecutivos constituyen una muestra aleatoria de la población de todos los ejecutivos. Use los datos para hallar un intervalo de confianza de 95% para la fracción de todos los ejecutivos corporativos que consideran que el flujo de caja es la medida más importante de la salud financiera de una compañía."
   ]
  },
  {
   "cell_type": "code",
   "execution_count": 8,
   "metadata": {},
   "outputs": [
    {
     "name": "stdout",
     "output_type": "stream",
     "text": [
      "Proporción muestral (p̂): 0.6699\n",
      "Intervalo de confianza del 95% para la proporción: (0.6246, 0.7151)\n"
     ]
    }
   ],
   "source": [
    "import math\n",
    "\n",
    "# Datos proporcionados\n",
    "n = 415  # Tamaño de la muestra\n",
    "x = 278  # Número de éxitos (ejecutivos que consideran el flujo de caja más importante)\n",
    "\n",
    "# Proporción muestral\n",
    "p_hat = x / n\n",
    "\n",
    "# Valor crítico Z para un intervalo de confianza del 95%\n",
    "z_alpha = stats.norm.ppf(1 - 0.05 / 2)  # 95% de confianza, Z_alpha/2\n",
    "\n",
    "# Desviación estándar de la proporción\n",
    "std_error = math.sqrt(p_hat * (1 - p_hat) / n)\n",
    "\n",
    "# Margen de error\n",
    "margin_of_error = z_alpha * std_error\n",
    "\n",
    "# Intervalo de confianza\n",
    "ci_lower = p_hat - margin_of_error\n",
    "ci_upper = p_hat + margin_of_error\n",
    "\n",
    "# Resultados\n",
    "print(f\"Proporción muestral (p̂): {p_hat:.4f}\")\n",
    "print(f\"Intervalo de confianza del 95% para la proporción: ({ci_lower:.4f}, {ci_upper:.4f})\")"
   ]
  },
  {
   "cell_type": "markdown",
   "metadata": {},
   "source": [
    "# Problema 5:\n",
    "Se sabe que la probabilidad p de obtener una cara al lanzar al aire una moneda desbalanceada es 1/ 4 o 3/ 4. La moneda es lanzada dos veces al aire y se observa un valor para Y, el número de caras. Para cada valor posible de Y, ¿cuál de los dos valores para p (1/ 4 o 3/ 4) maximiza la probabilidad de que Y = y? Dependiendo del valor de y observado realmente, En otras palabras ¿cuál es el MLE de p?"
   ]
  },
  {
   "cell_type": "markdown",
   "metadata": {},
   "source": [
    "$\\textbf{Solución.}$ Sabemos que $Y$, el número de caras en dos lanzamientos de la moneda, sigue una distribución binomial $Y∼\\text{Binomial}(n=2,p)$. La función de masa de probabilidad para la distribución binomial es:\n",
    "$$P(Y=y|p)=\\binom{2}{y} p^y (1-p)^{2-y}.$$\n",
    "Dado que estamos lanzando la moneda dos veces, los posibles valores para $Y$ (el número de caras) son $y=0,1,2$. Analizamos la probabilidad para cada uno de estos valores de $y$ con los dos valores posibles de $p$.\n",
    "\n",
    "Para $Y=0:$\n",
    "$$P(Y=0|p)=\\binom{2}{0} p^0 (1-p)^2=(1-p)^2.$$\n",
    "1. Para $p=\\frac{1}{4}$, $P(Y=0|p=\\frac{1}{4})=(1-\\frac{1}{4})^2=\\frac{9}{16}.$\n",
    "2. Para $p=\\frac{3}{4}$, $P(Y=0|p=\\frac{3}{4})=(1-\\frac{3}{4})^2=\\frac{1}{16}$.\n",
    "\n",
    "Para $Y=1:$\n",
    "$$P(Y=1|p)=\\binom{2}{1} p^1 (1-p)^1=2p(1-p).$$\n",
    "1. Para $p=\\frac{1}{4}$, $P(Y=1|p=\\frac{1}{4})=2 \\left(\\frac{1}{4}\\right) \\frac{3}{4}=\\frac{6}{16}.$\n",
    "2. Para $p=\\frac{3}{4}$, $P(Y=1|p=\\frac{3}{4})=2 \\left(\\frac{3}{4}\\right) \\frac{1}{4}=\\frac{3}{16}$.\n",
    "\n",
    "Para $Y=2:$\n",
    "$$P(Y=2|p)=\\binom{2}{2} p^2 (1-p)^0=p^2.$$\n",
    "1. Para $p=\\frac{1}{4}$, $P(Y=2|p=\\frac{1}{4})=\\left(\\frac{1}{4}\\right)^2=\\frac{1}{16}.$\n",
    "2. Para $p=\\frac{3}{4}$, $P(Y=2|p=\\frac{3}{4})=\\left(\\frac{3}{4}\\right)^2=\\frac{9}{16}.$\n",
    "\n",
    "El $\\hat{p}_{EMV}$ depende del valor observado $Y$:\n",
    "1. Si $Y=0$, $\\hat{p}_{EMV}=\\frac{1}{4}$.\n",
    "2. Si $Y=1$, ambos $p=\\frac{1}{4}$ y $p=\\frac{3}{4}$ son igualmente probables.\n",
    "3. Si $Y=2$, $\\hat{p}_{EMV}=\\frac{3}{4}$."
   ]
  },
  {
   "cell_type": "markdown",
   "metadata": {},
   "source": [
    "# Problema 6:\n",
    "Un examen de lectura se aplica a alumnos de sexto año en tres grandes escuelas primarias. Se considera que las calificaciones del examen en cada escuela tienen distribuciones normales con medias desconocidas $\\mu_1, \\mu_2, \\mu_3$, respectivamente, y varianza común desconocida $\\sigma^2(\\sigma²_1 = \\sigma²_2 = \\sigma^2_3 = \\sigma^2)$. Usando los datos de la tabla siguiente en muestras aleatorias independientes de cada escuela, pruebe si existe evidencia de una diferencia entre m1 y m2. Use a = .05.\n",
    "\n",
    "Escuela I : $n_{1} = 10, \\sum x_{i}^{2} = 36950 , \\bar{x}= 60$\n",
    "Escuela II : $n_{2} = 10, \\sum y_{i}^{2} = 25850 , \\bar{y}= 50$\n",
    "Escuela III : $n_{3} = 10, \\sum w_{i}^{2} = 49900 , \\bar{x}= 70$\n"
   ]
  },
  {
   "cell_type": "code",
   "execution_count": 9,
   "metadata": {},
   "outputs": [
    {
     "name": "stdout",
     "output_type": "stream",
     "text": [
      "Estadístico t calculado:  2.23606797749979\n",
      "Valor crítico t para alfa = 0.05 y grados de libertad = 18 es:  2.10092204024096\n",
      "Se rechaza la hipótesis nula. Hay suficiente evidencia para concluir que las medias son diferentes.\n"
     ]
    }
   ],
   "source": [
    "# Datos \n",
    "n1 = 10  # Número de alumnos en la escuela I\n",
    "n2 = 10  # Número de alumnos en la escuela II\n",
    "\n",
    "# Medias muestrales\n",
    "x_bar = 60  # Media de la escuela I\n",
    "y_bar = 50  # Media de la escuela II\n",
    "\n",
    "# Sumas de los cuadrados de las observaciones\n",
    "sum_x2 = 36950  # Suma de los cuadrados para la escuela I\n",
    "sum_y2 = 25850  # Suma de los cuadrados para la escuela II\n",
    "\n",
    "# Calcular las varianzas muestrales\n",
    "sum_x = x_bar * n1  # Suma de las observaciones en la escuela I\n",
    "sum_y = y_bar * n2  # Suma de las observaciones en la escuela II\n",
    "\n",
    "S1_squared = (sum_x2 - (sum_x ** 2) / n1) / (n1 - 1)\n",
    "S2_squared = (sum_y2 - (sum_y ** 2) / n2) / (n2 - 1)\n",
    "\n",
    "# Estimación de la varianza común (S_p^2)\n",
    "Sp_squared = ((n1 - 1) * S1_squared + (n2 - 1) * S2_squared) / (n1 + n2 - 2)\n",
    "\n",
    "# Calcular el estadístico t\n",
    "t_statistic = (x_bar - y_bar) / np.sqrt(Sp_squared * (1 / n1 + 1 / n2))\n",
    "\n",
    "# Calcular los grados de libertad\n",
    "df = n1 + n2 - 2\n",
    "\n",
    "# Nivel de significancia\n",
    "alpha = 0.05\n",
    "\n",
    "# Valor crítico t para un intervalo de dos colas\n",
    "t_critical = stats.t.ppf(1 - alpha / 2, df)\n",
    "\n",
    "# Imprimir resultados\n",
    "print(\"Estadístico t calculado: \", t_statistic)\n",
    "print(\"Valor crítico t para alfa =\", alpha, \"y grados de libertad =\", df, \"es: \", t_critical)\n",
    "\n",
    "# Decisión sobre la hipótesis\n",
    "if abs(t_statistic) > t_critical:\n",
    "    print(\"Se rechaza la hipótesis nula. Hay suficiente evidencia para concluir que las medias son diferentes.\")\n",
    "else:\n",
    "    print(\"No se rechaza la hipótesis nula. No hay suficiente evidencia para concluir que las medias son diferentes.\")\n"
   ]
  },
  {
   "cell_type": "markdown",
   "metadata": {},
   "source": [
    "# Problema 7:\n",
    "¿Qué eficiencia de combustión debe esperar el propietario de una casa de un horno de petróleo? La EPA indica que 80% o más es excelente, 75% a 79% es buena, 70% a 74% es regular y debajo de 70% es mala. Un contratista de sistemas de calefacción doméstica, que vende dos marcas de calentadores de petróleo (llamémosles A y B) decidió comparar sus eficiencias medias al analizar las eficiencias de 8 calentadores del tipo A y 6 del tipo B. Los porcentajes de eficiencia resultantes para los 14 calentadores se muestran en la tabla siguiente.\n",
    "\n",
    "Tipo A 72 78 73 69 75 74 69 75\n",
    "\n",
    "Tipo B 78 76 81 74 82 75\n",
    "\n",
    "a ¿Los datos proporcionan suficiente evidencia para indicar una diferencia en las eficiencias medias para las dos marcas de calentadores domésticos? Encuentre el valor p aproximado para la prueba e interprete su valor. \n",
    "\n",
    "b Determine un intervalo de confianza de 90% para (mA − mB) e interprete el resultado."
   ]
  },
  {
   "cell_type": "code",
   "execution_count": 10,
   "metadata": {},
   "outputs": [
    {
     "name": "stdout",
     "output_type": "stream",
     "text": [
      "Estadístico t: -2.6345\n",
      "Grados de libertad: 10.5675\n",
      "Valor p: 0.0239\n",
      "Rechazamos la hipótesis nula. Existe evidencia de que las medias son diferentes.\n"
     ]
    }
   ],
   "source": [
    "# Datos de las eficiencias de los calentadores\n",
    "marca_A = np.array([72, 78, 73, 69, 75, 74, 69, 75])\n",
    "marca_B = np.array([78, 76, 81, 74, 82, 75])\n",
    "\n",
    "# Calcular las estadísticas para la marca A y B\n",
    "n_A = len(marca_A)\n",
    "n_B = len(marca_B)\n",
    "\n",
    "mean_A = np.mean(marca_A)\n",
    "mean_B = np.mean(marca_B)\n",
    "\n",
    "var_A = np.var(marca_A, ddof=1)  # Varianza muestral de A\n",
    "var_B = np.var(marca_B, ddof=1)  # Varianza muestral de B\n",
    "\n",
    "# Estadístico t para varianzas desiguales (test de Welch)\n",
    "t_statistic = (mean_A - mean_B) / np.sqrt(var_A / n_A + var_B / n_B)\n",
    "\n",
    "# Calcular los grados de libertad ajustados usando la fórmula de Welch-Satterthwaite\n",
    "df = (var_A / n_A + var_B / n_B) ** 2 / ((var_A / n_A) ** 2 / (n_A - 1) + (var_B / n_B) ** 2 / (n_B - 1))\n",
    "\n",
    "# Calcular el valor p de la distribución t\n",
    "p_value = 2 * (1 - stats.t.cdf(abs(t_statistic), df))\n",
    "\n",
    "# Imprimir resultados\n",
    "print(f\"Estadístico t: {t_statistic:.4f}\")\n",
    "print(f\"Grados de libertad: {df:.4f}\")\n",
    "print(f\"Valor p: {p_value:.4f}\")\n",
    "\n",
    "# Decisión sobre la hipótesis\n",
    "alpha = 0.05\n",
    "if p_value < alpha:\n",
    "    print(\"Rechazamos la hipótesis nula. Existe evidencia de que las medias son diferentes.\")\n",
    "else:\n",
    "    print(\"No rechazamos la hipótesis nula. No hay suficiente evidencia para afirmar que las medias son diferentes.\")\n"
   ]
  },
  {
   "cell_type": "code",
   "execution_count": 11,
   "metadata": {},
   "outputs": [
    {
     "name": "stdout",
     "output_type": "stream",
     "text": [
      "Intervalo de confianza del 90% para (mu_A - mu_B): [-7.64930257 -1.43403076]\n"
     ]
    }
   ],
   "source": [
    "# Nivel de confianza y valor crítico t\n",
    "alpha = 0.10\n",
    "t_critical = stats.t.ppf(1 - alpha / 2, df)\n",
    "\n",
    "# Error estándar de la diferencia de medias\n",
    "se_diff = np.sqrt(var_A / n_A + var_B / n_B)\n",
    "\n",
    "# Intervalo de confianza\n",
    "confidence_interval = (mean_A - mean_B) + np.array([-1, 1]) * t_critical * se_diff\n",
    "\n",
    "print(f\"Intervalo de confianza del 90% para (mu_A - mu_B): {confidence_interval}\")\n"
   ]
  },
  {
   "cell_type": "markdown",
   "metadata": {},
   "source": [
    "# Problema 8: \n",
    "Los datos de la siguiente tabla muestran lecturas en pies-libras de la resistencia al impacto de dos clases de material de empaque, tipo A y tipo B. Determine si la información sugiere una diferencia en la resistencia media entre las dos clases de material. Realice la prueba con un nivel de significancia a = .10.\n",
    "\n",
    "A     &nbsp; B \\\n",
    "1.25 &nbsp; .89 \\\n",
    "1.16 &nbsp; 1.01 \\\n",
    "1.33 &nbsp; .97 \\\n",
    "1.15 &nbsp; .95 \\\n",
    "1.23 &nbsp; .94 \\\n",
    "1.20 &nbsp; 1.02 \\\n",
    "1.32 &nbsp; .98 \\\n",
    "1.28 &nbsp; 1.06 \\\n",
    "1.21 &nbsp; .98\n"
   ]
  },
  {
   "cell_type": "markdown",
   "metadata": {},
   "source": [
    "$\\textbf{Solución.}$ Para determinar si hay una diferencia significativa en la resistencia media entre los dos tipos de material de empaque (A y B), se puede realizar una prueba t para muestras independientes."
   ]
  },
  {
   "cell_type": "code",
   "execution_count": 1,
   "metadata": {},
   "outputs": [
    {
     "name": "stdout",
     "output_type": "stream",
     "text": [
      "Estadístico t: 9.5641\n",
      "Valor p: 0.0000\n",
      "Rechazamos la hipótesis nula: hay una diferencia significativa en la resistencia media entre los dos tipos de material.\n"
     ]
    }
   ],
   "source": [
    "import scipy.stats as stats\n",
    "\n",
    "# Datos de la tabla\n",
    "data_A = [1.25, 1.16, 1.33, 1.15, 1.23, 1.20, 1.32, 1.28, 1.21]\n",
    "data_B = [0.89, 1.01, 0.97, 0.95, 0.94, 1.02, 0.98, 1.06, 0.98]\n",
    "\n",
    "# Nivel de significancia\n",
    "alpha = 0.10\n",
    "\n",
    "# Realizar la prueba t para muestras independientes\n",
    "t_stat, p_value = stats.ttest_ind(data_A, data_B)\n",
    "\n",
    "# Mostrar los resultados\n",
    "print(f'Estadístico t: {t_stat:.4f}')\n",
    "print(f'Valor p: {p_value:.4f}')\n",
    "\n",
    "# Determinar si rechazamos o no la hipótesis nula\n",
    "if p_value < alpha:\n",
    "    print(\"Rechazamos la hipótesis nula: hay una diferencia significativa en la resistencia media entre los dos tipos de material.\")\n",
    "else:\n",
    "    print(\"No rechazamos la hipótesis nula: no hay una diferencia significativa en la resistencia media entre los dos tipos de material.\")\n"
   ]
  },
  {
   "cell_type": "markdown",
   "metadata": {},
   "source": [
    "# Problema 9:\n",
    "Los datos de la siguiente tabla proporcionan las millas por galón recorridas por un automóvil de prueba cuando utiliza gasolinas de niveles variables de octanaje.\n",
    "\n",
    "Millas por galón (y) &nbsp; Octano (x) \\\n",
    "13.0 &nbsp;89 \\\n",
    "13.2 &nbsp;93 \\\n",
    "13.0 &nbsp;87 \\\n",
    " 13.6 &nbsp;90 \\\n",
    "13.3 &nbsp;89 \\\n",
    " 13.8 &nbsp;95  \\\n",
    " 14.1 &nbsp;100 \\\n",
    " 14.0 &nbsp;98\n",
    "\n",
    " a Calcule el valor de r. \n",
    " \n",
    " b ¿Los datos dan suficiente evidencia para indicar que el nivel de octanaje y las millas por galón son dependientes? Obtenga el nivel de significancia alcanzado, e indique su conclusión si desea realizar una prueba en el nivel de a = .05."
   ]
  },
  {
   "cell_type": "markdown",
   "metadata": {},
   "source": [
    "(b) $\\textbf{Solución.}$ La prueba de hipótesis es\n",
    "$$H_0:r=0\\ \\text{vs}\\ H_1:r \\neq 0.$$\n",
    "El estadístico t se calcula con la siguiente fórmula:\n",
    "$$t= \\frac{r \\sqrt{n-2}}{\\sqrt{1-r^2}} \\sim \\mathcal{t}_{(n-2)}.$$"
   ]
  },
  {
   "cell_type": "code",
   "execution_count": 2,
   "metadata": {},
   "outputs": [
    {
     "name": "stdout",
     "output_type": "stream",
     "text": [
      "Coeficiente de correlación r: 0.8914\n",
      "Valor p: 0.0029\n",
      "Se rechaza la hipótesis nula. Hay suficiente evidencia para indicar que el octanaje y las millas por galón están correlacionados.\n"
     ]
    }
   ],
   "source": [
    "import numpy as np\n",
    "from scipy.stats import pearsonr\n",
    "\n",
    "# Datos de la tabla\n",
    "x = np.array([89, 93, 87, 90, 89, 95, 100, 98])  # Octano\n",
    "y = np.array([13.0, 13.2, 13.0, 13.6, 13.3, 13.8, 14.1, 14.0])  # Millas por galón\n",
    "\n",
    "# a) Calcular el coeficiente de correlación r\n",
    "r, p_value = pearsonr(x, y)\n",
    "print(f\"Coeficiente de correlación r: {r:.4f}\")\n",
    "print(f\"Valor p: {p_value:.4f}\")\n",
    "\n",
    "# b) Hipótesis de correlación\n",
    "# Nivel de significancia\n",
    "alpha = 0.05\n",
    "\n",
    "if p_value < alpha:\n",
    "    print(\"Se rechaza la hipótesis nula. Hay suficiente evidencia para indicar que el octanaje y las millas por galón están correlacionados.\")\n",
    "else:\n",
    "    print(\"No se rechaza la hipótesis nula. No hay suficiente evidencia para indicar que el octanaje y las millas por galón están correlacionados.\")\n"
   ]
  },
  {
   "cell_type": "markdown",
   "metadata": {},
   "source": [
    "# Problema 10:\n",
    "Se realizó un experimento para determinar el efecto de presión y temperatura en el rendimiento de una sustancia química. Se emplearon dos niveles de presión (en libras por pulgada cuadrada, psi) y tres de temperatura:\n",
    "\n",
    "Presión: 50 , 80\n",
    "Temperatura (F) : 100, 200, 300\n",
    "\n",
    "Una prueba del experimento en cada combinación de temperatura-presión dio como resultado los datos que aparecen en la siguiente tabla.\n",
    "\n",
    "Rendimiento &nbsp; Presión &nbsp; Temperatura\\\n",
    "21 &nbsp;50&nbsp; 100 \\\n",
    "23 &nbsp;50 &nbsp;200 \\\n",
    "26 &nbsp;50 &nbsp;300 \\\n",
    "22 &nbsp;80 &nbsp;100 \\\n",
    "23 &nbsp;80 &nbsp;200 \\\n",
    "28 &nbsp;80&nbsp; 300\n",
    "\n",
    "a Ajuste el modelo $Y = \\beta_{0} +\\beta_1x_1 +\\beta_2x_2 +\\beta_3x_2^{2} + \\epsilon$, donde $x_1$ = presión y $x_2$ = temperatura. \n",
    "\n",
    "b Compruebe si $\\beta_3$ difiere considerablemente de cero, con $\\alpha$ = .05. \n",
    "\n",
    "c Pruebe la hipótesis de que la temperatura no afecta el rendimiento, con $\\alpha$ = .05."
   ]
  },
  {
   "cell_type": "code",
   "execution_count": 3,
   "metadata": {},
   "outputs": [
    {
     "name": "stdout",
     "output_type": "stream",
     "text": [
      "                            OLS Regression Results                            \n",
      "==============================================================================\n",
      "Dep. Variable:                      y   R-squared:                       0.971\n",
      "Model:                            OLS   Adj. R-squared:                  0.928\n",
      "Method:                 Least Squares   F-statistic:                     22.56\n",
      "Date:                Mon, 18 Nov 2024   Prob (F-statistic):             0.0428\n",
      "Time:                        13:15:47   Log-Likelihood:                -3.1384\n",
      "No. Observations:                   6   AIC:                             14.28\n",
      "Df Residuals:                       2   BIC:                             13.44\n",
      "Df Model:                           3                                         \n",
      "Covariance Type:            nonrobust                                         \n",
      "==============================================================================\n",
      "                 coef    std err          t      P>|t|      [0.025      0.975]\n",
      "------------------------------------------------------------------------------\n",
      "const         20.3333      2.513      8.091      0.015       9.521      31.146\n",
      "x1             0.0333      0.019      1.732      0.225      -0.049       0.116\n",
      "x2            -0.0225      0.025     -0.909      0.459      -0.129       0.084\n",
      "x3             0.0001   6.12e-05      2.041      0.178      -0.000       0.000\n",
      "==============================================================================\n",
      "Omnibus:                          nan   Durbin-Watson:                   2.750\n",
      "Prob(Omnibus):                    nan   Jarque-Bera (JB):                0.562\n",
      "Skew:                          -0.000   Prob(JB):                        0.755\n",
      "Kurtosis:                       1.500   Cond. No.                     4.98e+05\n",
      "==============================================================================\n",
      "\n",
      "Notes:\n",
      "[1] Standard Errors assume that the covariance matrix of the errors is correctly specified.\n",
      "[2] The condition number is large, 4.98e+05. This might indicate that there are\n",
      "strong multicollinearity or other numerical problems.\n",
      "P-valor para β3 (temperatura cuadrática): 0.1780\n",
      "P-valor para β2 (temperatura): 0.4592\n"
     ]
    },
    {
     "name": "stderr",
     "output_type": "stream",
     "text": [
      "C:\\Anaconda3\\lib\\site-packages\\statsmodels\\stats\\stattools.py:74: ValueWarning: omni_normtest is not valid with less than 8 observations; 6 samples were given.\n",
      "  warn(\"omni_normtest is not valid with less than 8 observations; %i \"\n"
     ]
    }
   ],
   "source": [
    "import numpy as np\n",
    "import statsmodels.api as sm\n",
    "import pandas as pd\n",
    "\n",
    "# Datos del experimento\n",
    "presion = np.array([50, 50, 50, 80, 80, 80])  # Presión (x1)\n",
    "temperatura = np.array([100, 200, 300, 100, 200, 300])  # Temperatura (x2)\n",
    "rendimiento = np.array([21, 23, 26, 22, 23, 28])  # Rendimiento (Y)\n",
    "\n",
    "# Crear las variables para el modelo (incluir x2^2)\n",
    "x1 = presion\n",
    "x2 = temperatura\n",
    "x2_squared = x2**2\n",
    "\n",
    "# Construir el diseño de la matriz X (con intercepto)\n",
    "X = np.column_stack((np.ones(len(x1)), x1, x2, x2_squared))  # Intercepto, x1, x2, x2^2\n",
    "\n",
    "# Ajustar el modelo de regresión\n",
    "model = sm.OLS(rendimiento, X)\n",
    "results = model.fit()\n",
    "\n",
    "# Imprimir los resultados del modelo\n",
    "print(results.summary())\n",
    "\n",
    "# b) Comprobar si β3 (coeficiente de x2^2) es diferente de cero\n",
    "# Comprobamos el p-valor para β3 (término cuadrático de temperatura)\n",
    "beta_3_p_value = results.pvalues[3]  # p-valor de β3 (x2^2)\n",
    "print(f\"P-valor para β3 (temperatura cuadrática): {beta_3_p_value:.4f}\")\n",
    "\n",
    "# c) Comprobar si β2 (coeficiente de x2) es diferente de cero\n",
    "# Comprobamos el p-valor para β2 (temperatura)\n",
    "beta_2_p_value = results.pvalues[2]  # p-valor de β2 (x2)\n",
    "print(f\"P-valor para β2 (temperatura): {beta_2_p_value:.4f}\")\n"
   ]
  },
  {
   "cell_type": "markdown",
   "metadata": {},
   "source": [
    "Para $\\beta_3$, dado que el $p-value$ es mayor que 0.05, no rechazamos la hipótesis nula de que $\\beta_3=0$, lo que indica que la temperatura cuadrática no tiene un efecto significativo en el rendimiento."
   ]
  },
  {
   "cell_type": "markdown",
   "metadata": {},
   "source": [
    "Para $\\beta_2$, también no rechazamos la hipótesis nula, indicando que la temperatura no tiene un efecto significativo en el rendimiento."
   ]
  },
  {
   "cell_type": "markdown",
   "metadata": {},
   "source": [
    "# Problema 11:\n",
    "Los datos de la siguiente tabla provienen de la comparación de los porcentajes de crecimiento para bacterias tipos A y B. El crecimiento Y registrado en cinco puntos igualmente espaciados (y codificados) de tiempo se muestra en la tabla.\n",
    "\n",
    "Tiempo codificado : -2, -1, 0 , 1, 2 \\\n",
    "Bacteria A : 8.0, 9.0, 9.1 , 10.2, 10.4\\\n",
    "Bacteria B : 10.0, 10.3, 12.2, 12.6, 13.9\n",
    "\n",
    "a Ajuste el modelo lineal $Y = \\beta_0 + \\beta_1 x_1 + \\beta_2 x_2 + \\beta_3 x_1 x_2 + \\epsilon$ a los n = 10 puntos. Sea $x_1$ = 1 si el punto se refiere a bacterias tipo B y sea $x_1$ = 0 si el punto se refiere al tipo A. Sea $x_2$ = tiempo codificado. \n",
    "\n",
    "b Grafique los puntos y las dos rectas de crecimiento. Observe que b3 es la diferencia entre las pendientes de las dos rectas y representa la interacción tiempo-bacteria. \n",
    "\n",
    "c Prediga el crecimiento del tipo A en el tiempo $x_2$ = 0 y compare la respuesta con la gráfica. Repita el proceso para el tipo B.\n",
    "\n",
    "d ¿Los datos presentan suficiente evidencia para indicar una diferencia en los porcentajes de crecimiento para los dos tipos de bacteria?"
   ]
  },
  {
   "cell_type": "code",
   "execution_count": 4,
   "metadata": {},
   "outputs": [
    {
     "name": "stdout",
     "output_type": "stream",
     "text": [
      "                            OLS Regression Results                            \n",
      "==============================================================================\n",
      "Dep. Variable:                      y   R-squared:                       0.975\n",
      "Model:                            OLS   Adj. R-squared:                  0.963\n",
      "Method:                 Least Squares   F-statistic:                     79.15\n",
      "Date:                Mon, 18 Nov 2024   Prob (F-statistic):           3.24e-05\n",
      "Time:                        14:32:05   Log-Likelihood:                -1.1098\n",
      "No. Observations:                  10   AIC:                             10.22\n",
      "Df Residuals:                       6   BIC:                             11.43\n",
      "Df Model:                           3                                         \n",
      "Covariance Type:            nonrobust                                         \n",
      "==============================================================================\n",
      "                 coef    std err          t      P>|t|      [0.025      0.975]\n",
      "------------------------------------------------------------------------------\n",
      "const          9.3400      0.156     59.834      0.000       8.958       9.722\n",
      "x1             2.4600      0.221     11.144      0.000       1.920       3.000\n",
      "x2             0.6000      0.110      5.436      0.002       0.330       0.870\n",
      "x3             0.4100      0.156      2.627      0.039       0.028       0.792\n",
      "==============================================================================\n",
      "Omnibus:                        0.677   Durbin-Watson:                   3.696\n",
      "Prob(Omnibus):                  0.713   Jarque-Bera (JB):                0.572\n",
      "Skew:                          -0.182   Prob(JB):                        0.751\n",
      "Kurtosis:                       1.886   Cond. No.                         3.70\n",
      "==============================================================================\n",
      "\n",
      "Notes:\n",
      "[1] Standard Errors assume that the covariance matrix of the errors is correctly specified.\n"
     ]
    },
    {
     "name": "stderr",
     "output_type": "stream",
     "text": [
      "C:\\Anaconda3\\lib\\site-packages\\scipy\\stats\\_stats_py.py:1769: UserWarning: kurtosistest only valid for n>=20 ... continuing anyway, n=10\n",
      "  warnings.warn(\"kurtosistest only valid for n>=20 ... continuing \"\n"
     ]
    }
   ],
   "source": [
    "import numpy as np\n",
    "import statsmodels.api as sm\n",
    "import matplotlib.pyplot as plt\n",
    "\n",
    "# Datos\n",
    "tiempo = np.array([-2, -1, 0, 1, 2])  # Tiempo codificado (x2)\n",
    "bacteria_A = np.array([8.0, 9.0, 9.1, 10.2, 10.4])  # Crecimiento Bacteria A\n",
    "bacteria_B = np.array([10.0, 10.3, 12.2, 12.6, 13.9])  # Crecimiento Bacteria B\n",
    "\n",
    "# Variables indicadoras y tiempos\n",
    "x1_A = np.zeros(len(tiempo))  # x1 = 0 para Bacteria A\n",
    "x1_B = np.ones(len(tiempo))  # x1 = 1 para Bacteria B\n",
    "\n",
    "# Matrices de diseño para las bacterias A y B\n",
    "x2_A = tiempo\n",
    "x2_B = tiempo\n",
    "x1x2_A = x1_A * x2_A\n",
    "x1x2_B = x1_B * x2_B\n",
    "\n",
    "# Combinamos las dos bacterias en un solo arreglo para realizar el ajuste\n",
    "x1 = np.concatenate([x1_A, x1_B])\n",
    "x2 = np.concatenate([x2_A, x2_B])\n",
    "x1x2 = np.concatenate([x1x2_A, x1x2_B])\n",
    "Y = np.concatenate([bacteria_A, bacteria_B])\n",
    "\n",
    "# Crear la matriz de diseño X\n",
    "X = np.column_stack((np.ones(len(x1)), x1, x2, x1x2))\n",
    "\n",
    "# Ajustar el modelo de regresión\n",
    "model = sm.OLS(Y, X)\n",
    "results = model.fit()\n",
    "\n",
    "# Mostrar el resumen del modelo\n",
    "print(results.summary())\n"
   ]
  },
  {
   "cell_type": "code",
   "execution_count": 5,
   "metadata": {},
   "outputs": [
    {
     "data": {
      "image/png": "[encoded data removed]",
      "text/plain": [
       "<Figure size 640x480 with 1 Axes>"
      ]
     },
     "metadata": {},
     "output_type": "display_data"
    }
   ],
   "source": [
    "# Coeficientes estimados\n",
    "beta_0, beta_1, beta_2, beta_3 = results.params\n",
    "\n",
    "# Crear los puntos de tiempo para graficar\n",
    "tiempo_grafica = np.linspace(-2, 2, 100)\n",
    "\n",
    "# Crecimiento para Bacteria A y B en el rango de tiempo\n",
    "crecimiento_A = beta_0 + beta_2 * tiempo_grafica\n",
    "crecimiento_B = beta_0 + beta_1 + (beta_2 + beta_3) * tiempo_grafica\n",
    "\n",
    "# Graficar los puntos y las rectas de crecimiento\n",
    "plt.scatter(tiempo, bacteria_A, color='blue', label='Bacteria A')\n",
    "plt.scatter(tiempo, bacteria_B, color='red', label='Bacteria B')\n",
    "plt.plot(tiempo_grafica, crecimiento_A, color='blue', linestyle='--', label='Crecimiento Bacteria A')\n",
    "plt.plot(tiempo_grafica, crecimiento_B, color='red', linestyle='--', label='Crecimiento Bacteria B')\n",
    "\n",
    "plt.xlabel('Tiempo codificado')\n",
    "plt.ylabel('Crecimiento')\n",
    "plt.legend()\n",
    "plt.title('Crecimiento de Bacterias A y B en función del tiempo')\n",
    "plt.show()"
   ]
  },
  {
   "cell_type": "code",
   "execution_count": 6,
   "metadata": {},
   "outputs": [
    {
     "name": "stdout",
     "output_type": "stream",
     "text": [
      "Predicción de crecimiento para Bacteria A en x2 = 0: 9.34\n",
      "Predicción de crecimiento para Bacteria B en x2 = 0: 11.80\n"
     ]
    }
   ],
   "source": [
    "# Predicción para x2 = 0 (tiempo codificado 0)\n",
    "x2_0 = 0\n",
    "\n",
    "# Crecimiento para Bacteria A (x1 = 0) y Bacteria B (x1 = 1)\n",
    "crecimiento_A_0 = beta_0 + beta_2 * x2_0\n",
    "crecimiento_B_0 = beta_0 + beta_1 + (beta_2 + beta_3) * x2_0\n",
    "\n",
    "print(f\"Predicción de crecimiento para Bacteria A en x2 = 0: {crecimiento_A_0:.2f}\")\n",
    "print(f\"Predicción de crecimiento para Bacteria B en x2 = 0: {crecimiento_B_0:.2f}\")\n"
   ]
  },
  {
   "cell_type": "markdown",
   "metadata": {},
   "source": [
    "d) Para probar esto, se observa el $p-value$ de $\\beta_1$ y $\\beta_2$ en el resumen del modelo. Los dos $p-value$'s son menores que el nivel de significancia ($\\alpha=0.05$), entonces se rechaza la hipótesis nula, i.e., las pendientes son diferentes, el tiempo afecta de manera diferente a las dos bacterias."
   ]
  },
  {
   "cell_type": "markdown",
   "metadata": {
    "id": "UMPpsFF7maAF"
   },
   "source": [
    "# Problema 12:\n",
    "\n",
    "Supongamos que deseas analizar la diferencia en las calificaciones obtenidas por tres grupos de estudiantes en un examen de matemáticas. Los grupos son: \"Grupo A\", \"Grupo B\" y \"Grupo C\". Tienes los datos de las calificaciones obtenidas por cada estudiante en un archivo CSV llamado \"calificaciones.csv\". \n",
    "\n",
    "Haz una prueba Anova para ver si hay diferencia en calificaciones de los tres grupos."
   ]
  },
  {
   "cell_type": "code",
   "execution_count": 8,
   "metadata": {},
   "outputs": [
    {
     "name": "stdout",
     "output_type": "stream",
     "text": [
      "     Grupo  Datos\n",
      "0  Grupo A    5.8\n",
      "1  Grupo A    3.1\n",
      "2  Grupo A    7.2\n",
      "3  Grupo A    2.6\n",
      "4  Grupo A    6.7\n",
      "Estadístico F: 0.017511360676141122\n",
      "Valor p: 0.8973476766572029\n",
      "No rechazamos la hipótesis nula: No hay una diferencia significativa entre los grupos.\n"
     ]
    }
   ],
   "source": [
    "import pandas as pd\n",
    "from scipy import stats\n",
    "\n",
    "# Leer el archivo CSV\n",
    "data = pd.read_csv('datos.csv')\n",
    "\n",
    "# Ver los primeros registros para asegurar que los datos se cargaron correctamente\n",
    "print(data.head())\n",
    "\n",
    "# Separar los datos por grupo\n",
    "grupo_A = data[data['Grupo'] == 'Grupo A']['Datos']\n",
    "grupo_B = data[data['Grupo'] == 'Grupo B']['Datos']\n",
    "\n",
    "# Realizar la prueba ANOVA de una vía\n",
    "f_stat, p_value = stats.f_oneway(grupo_A, grupo_B)\n",
    "\n",
    "# Imprimir los resultados de la prueba\n",
    "print(f'Estadístico F: {f_stat}')\n",
    "print(f'Valor p: {p_value}')\n",
    "\n",
    "# Interpretar el valor p\n",
    "alpha = 0.05\n",
    "if p_value < alpha:\n",
    "    print(\"Rechazamos la hipótesis nula: Hay una diferencia significativa entre los grupos.\")\n",
    "else:\n",
    "    print(\"No rechazamos la hipótesis nula: No hay una diferencia significativa entre los grupos.\")\n"
   ]
  },
  {
   "cell_type": "markdown",
   "metadata": {
    "id": "6Kzl2eSnnQQK"
   },
   "source": [
    "# Problema 13:\n",
    "\n",
    "Supongamos que tienes dos grupos de datos: \"Grupo A\" y \"Grupo B\", y deseas determinar si hay una diferencia significativa entre las medianas de ambos grupos. No sabes si los datos provienene de distribución normal.\n",
    "\n",
    "a) Has una prueba gráfica y una prueba de hipótesis para saber si los datos tienen una distribución normal para ambos grupos.\n",
    "\n",
    "b) Emplea estadística no paramétrica para probar si hay diferencia significativa en la mediana entre ambos grupos.\n",
    "\n",
    "Los datos están en el archivo datos.csv"
   ]
  },
  {
   "cell_type": "code",
   "execution_count": 9,
   "metadata": {},
   "outputs": [
    {
     "name": "stdout",
     "output_type": "stream",
     "text": [
      "     Grupo  Datos\n",
      "0  Grupo A    5.8\n",
      "1  Grupo A    3.1\n",
      "2  Grupo A    7.2\n",
      "3  Grupo A    2.6\n",
      "4  Grupo A    6.7\n"
     ]
    },
    {
     "data": {
      "image/png": "[encoded data removed]",
      "text/plain": [
       "<Figure size 800x600 with 1 Axes>"
      ]
     },
     "metadata": {},
     "output_type": "display_data"
    },
    {
     "data": {
      "image/png": "[encoded data removed]",
      "text/plain": [
       "<Figure size 1200x600 with 2 Axes>"
      ]
     },
     "metadata": {},
     "output_type": "display_data"
    },
    {
     "name": "stdout",
     "output_type": "stream",
     "text": [
      "Prueba de Shapiro-Wilk para Grupo A: Estadístico = 0.9267435669898987, p-valor = 0.555199146270752\n",
      "Prueba de Shapiro-Wilk para Grupo B: Estadístico = 0.8947597146034241, p-valor = 0.34388166666030884\n",
      "Estadístico U de Mann-Whitney: 17.0\n",
      "Valor p de Mann-Whitney: 0.9372294372294373\n",
      "No rechazamos la hipótesis nula: No hay una diferencia significativa entre las medianas de los dos grupos.\n"
     ]
    }
   ],
   "source": [
    "import pandas as pd\n",
    "import numpy as np\n",
    "import matplotlib.pyplot as plt\n",
    "import seaborn as sns\n",
    "from scipy import stats\n",
    "\n",
    "# Leer el archivo CSV\n",
    "data = pd.read_csv('datos.csv')\n",
    "\n",
    "print(data.head())\n",
    "\n",
    "# Separar los datos por grupo\n",
    "grupo_A = data[data['Grupo'] == 'Grupo A']['Datos']\n",
    "grupo_B = data[data['Grupo'] == 'Grupo B']['Datos']\n",
    "\n",
    "# --- a) Pruebas de normalidad ---\n",
    "\n",
    "# 1. Gráfico de cajas (Boxplot)\n",
    "plt.figure(figsize=(8, 6))\n",
    "sns.boxplot(x='Grupo', y='Datos', data=data)\n",
    "plt.title('Boxplot de los grupos A y B')\n",
    "plt.show()\n",
    "\n",
    "# 2. Q-Q Plot\n",
    "from scipy.stats import probplot\n",
    "\n",
    "# Q-Q plot para Grupo A\n",
    "plt.figure(figsize=(12, 6))\n",
    "plt.subplot(1, 2, 1)\n",
    "probplot(grupo_A, dist=\"norm\", plot=plt)\n",
    "plt.title('Q-Q Plot Grupo A')\n",
    "\n",
    "# Q-Q plot para Grupo B\n",
    "plt.subplot(1, 2, 2)\n",
    "probplot(grupo_B, dist=\"norm\", plot=plt)\n",
    "plt.title('Q-Q Plot Grupo B')\n",
    "\n",
    "plt.tight_layout()\n",
    "plt.show()\n",
    "\n",
    "# 3. Prueba de normalidad de Shapiro-Wilk\n",
    "shapiro_A = stats.shapiro(grupo_A)\n",
    "shapiro_B = stats.shapiro(grupo_B)\n",
    "\n",
    "print(f\"Prueba de Shapiro-Wilk para Grupo A: Estadístico = {shapiro_A[0]}, p-valor = {shapiro_A[1]}\")\n",
    "print(f\"Prueba de Shapiro-Wilk para Grupo B: Estadístico = {shapiro_B[0]}, p-valor = {shapiro_B[1]}\")\n",
    "\n",
    "# --- b) Prueba no paramétrica (Mann-Whitney U) ---\n",
    "\n",
    "# Realizar la prueba de Mann-Whitney U\n",
    "u_stat, p_value_u = stats.mannwhitneyu(grupo_A, grupo_B)\n",
    "\n",
    "print(f'Estadístico U de Mann-Whitney: {u_stat}')\n",
    "print(f'Valor p de Mann-Whitney: {p_value_u}')\n",
    "\n",
    "# Interpretación del p-valor para la prueba de Mann-Whitney\n",
    "alpha = 0.05\n",
    "if p_value_u < alpha:\n",
    "    print(\"Rechazamos la hipótesis nula: Hay una diferencia significativa entre las medianas de los dos grupos.\")\n",
    "else:\n",
    "    print(\"No rechazamos la hipótesis nula: No hay una diferencia significativa entre las medianas de los dos grupos.\")\n"
   ]
  },
  {
   "cell_type": "markdown",
   "metadata": {},
   "source": [
    "El $p-value$ es mayor que 0.05 para ambos casos, no rechazamos la hipótesis nula, lo que indica que los datos podrían ser normales."
   ]
  }
 ],
 "metadata": {
  "colab": {
   "authorship_tag": "ABX9TyO0d4rZx/gQLxR5+ifoRDEq",
   "provenance": []
  },
  "kernelspec": {
   "display_name": "Python 3 (ipykernel)",
   "language": "python",
   "name": "python3"
  },
  "language_info": {
   "codemirror_mode": {
    "name": "ipython",
    "version": 3
   },
   "file_extension": ".py",
   "mimetype": "text/x-python",
   "name": "python",
   "nbconvert_exporter": "python",
   "pygments_lexer": "ipython3",
   "version": "3.9.13"
  }
 },
 "nbformat": 4,
 "nbformat_minor": 1
}
